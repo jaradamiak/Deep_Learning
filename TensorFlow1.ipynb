{
  "nbformat": 4,
  "nbformat_minor": 0,
  "metadata": {
    "colab": {
      "provenance": [],
      "authorship_tag": "ABX9TyMiHWAxpDiZ+03aAQCSSsBo",
      "include_colab_link": true
    },
    "kernelspec": {
      "name": "python3",
      "display_name": "Python 3"
    },
    "language_info": {
      "name": "python"
    }
  },
  "cells": [
    {
      "cell_type": "markdown",
      "metadata": {
        "id": "view-in-github",
        "colab_type": "text"
      },
      "source": [
        "<a href=\"https://colab.research.google.com/github/jaradamiak/Deep_Learning/blob/main/TensorFlow1.ipynb\" target=\"_parent\"><img src=\"https://colab.research.google.com/assets/colab-badge.svg\" alt=\"Open In Colab\"/></a>"
      ]
    },
    {
      "cell_type": "code",
      "execution_count": null,
      "metadata": {
        "colab": {
          "base_uri": "https://localhost:8080/"
        },
        "id": "wtZ09zBLq69T",
        "outputId": "fc2db1e4-5acb-4e2d-b094-cc066f569eed"
      },
      "outputs": [
        {
          "output_type": "stream",
          "name": "stdout",
          "text": [
            "tensorflow version: 2.12.0\n"
          ]
        }
      ],
      "source": [
        "import tensorflow as tf\n",
        "print(\"tensorflow version:\", tf.__version__)\n",
        "import pandas as pd\n",
        "import os\n",
        "import numpy as np\n",
        "from sklearn.model_selection import train_test_split\n",
        "from sklearn.preprocessing import StandardScaler\n",
        "import matplotlib.pyplot as plt\n"
      ]
    },
    {
      "cell_type": "markdown",
      "source": [
        "# Input and preprocessing"
      ],
      "metadata": {
        "id": "DADtUL4FsHg6"
      }
    },
    {
      "cell_type": "code",
      "source": [
        "cols = ['sepal_length', ' sepal_width', 'petal_length', 'petal_width', 'class']\n",
        "# url = 'https://raw.githubusercontent.com/pandas-dev/pandas/master/pandas/tests/data/iris.csv'\n",
        "# iris = pd.read_csv(url)\n",
        "# print(iris.head())\n",
        "df = pd.read_csv('https://archive.ics.uci.edu/ml/machine-learning-databases/iris/iris.data', names=cols)\n",
        "print(df.head())"
      ],
      "metadata": {
        "colab": {
          "base_uri": "https://localhost:8080/"
        },
        "id": "UiMrh54RsD6J",
        "outputId": "40719634-58dc-4f0a-d717-fbb18fcc2189"
      },
      "execution_count": null,
      "outputs": [
        {
          "output_type": "stream",
          "name": "stdout",
          "text": [
            "   sepal_length   sepal_width  petal_length  petal_width        class\n",
            "0           5.1           3.5           1.4          0.2  Iris-setosa\n",
            "1           4.9           3.0           1.4          0.2  Iris-setosa\n",
            "2           4.7           3.2           1.3          0.2  Iris-setosa\n",
            "3           4.6           3.1           1.5          0.2  Iris-setosa\n",
            "4           5.0           3.6           1.4          0.2  Iris-setosa\n"
          ]
        }
      ]
    },
    {
      "cell_type": "code",
      "source": [
        "from sklearn import preprocessing\n",
        "label_encoder = preprocessing.LabelEncoder()\n",
        "df['class'] = label_encoder.fit_transform(df['class'])\n",
        "print(df.head())"
      ],
      "metadata": {
        "colab": {
          "base_uri": "https://localhost:8080/"
        },
        "id": "x0ZvuJZ-y2U6",
        "outputId": "6ad46412-27d0-4d25-c147-25356dbc5a50"
      },
      "execution_count": null,
      "outputs": [
        {
          "output_type": "stream",
          "name": "stdout",
          "text": [
            "   sepal_length   sepal_width  petal_length  petal_width  class\n",
            "0           5.1           3.5           1.4          0.2      0\n",
            "1           4.9           3.0           1.4          0.2      0\n",
            "2           4.7           3.2           1.3          0.2      0\n",
            "3           4.6           3.1           1.5          0.2      0\n",
            "4           5.0           3.6           1.4          0.2      0\n"
          ]
        }
      ]
    },
    {
      "cell_type": "code",
      "source": [
        "# convert dataset to numpy array\n",
        "np_df = df.to_numpy()\n",
        "print(np_df[0:5, :])"
      ],
      "metadata": {
        "colab": {
          "base_uri": "https://localhost:8080/"
        },
        "id": "Q8HRXQWsnaTv",
        "outputId": "5c813ab8-fe7f-4f49-ee23-be1a7a34bdbd"
      },
      "execution_count": null,
      "outputs": [
        {
          "output_type": "stream",
          "name": "stdout",
          "text": [
            "[[5.1 3.5 1.4 0.2 0. ]\n",
            " [4.9 3.  1.4 0.2 0. ]\n",
            " [4.7 3.2 1.3 0.2 0. ]\n",
            " [4.6 3.1 1.5 0.2 0. ]\n",
            " [5.  3.6 1.4 0.2 0. ]]\n"
          ]
        }
      ]
    },
    {
      "cell_type": "code",
      "source": [
        "# separate features and target\n",
        "X = np_df[:,:-1]\n",
        "print(\"features:\", X[0:5,:], sep=\"\\n\")\n",
        "y=np_df[:,-1]\n",
        "print(\"target:\", y[0:5], sep=\"\\n\")"
      ],
      "metadata": {
        "colab": {
          "base_uri": "https://localhost:8080/"
        },
        "id": "h5rxONLroBzf",
        "outputId": "9729cabe-82c3-40a3-ed27-a70e0ffd97d9"
      },
      "execution_count": null,
      "outputs": [
        {
          "output_type": "stream",
          "name": "stdout",
          "text": [
            "features:\n",
            "[[5.1 3.5 1.4 0.2]\n",
            " [4.9 3.  1.4 0.2]\n",
            " [4.7 3.2 1.3 0.2]\n",
            " [4.6 3.1 1.5 0.2]\n",
            " [5.  3.6 1.4 0.2]]\n",
            "target:\n",
            "[0. 0. 0. 0. 0.]\n"
          ]
        }
      ]
    },
    {
      "cell_type": "code",
      "source": [
        "# create a standard scaler that fits on the input data\n",
        "scaler = StandardScaler().fit(X)"
      ],
      "metadata": {
        "id": "592ata4kpaY6"
      },
      "execution_count": null,
      "outputs": []
    },
    {
      "cell_type": "code",
      "source": [
        "#scale the numeric features\n",
        "X = scaler.transform(X)"
      ],
      "metadata": {
        "id": "18pMW_yAprAH"
      },
      "execution_count": null,
      "outputs": []
    },
    {
      "cell_type": "code",
      "source": [
        "# convert target variables as one-hot array\n",
        "y = tf.keras.utils.to_categorical(y,3)"
      ],
      "metadata": {
        "id": "wlkwQVIGqRSn"
      },
      "execution_count": null,
      "outputs": []
    },
    {
      "cell_type": "code",
      "source": [
        "print(\"features:\", X[0:5,:], sep=\"\\n\")\n",
        "print(\"target:\", y[0:5], sep=\"\\n\")\n"
      ],
      "metadata": {
        "colab": {
          "base_uri": "https://localhost:8080/"
        },
        "id": "SfoKePOdqsts",
        "outputId": "f982eb9e-6862-43ff-f84c-9f88f0c5c527"
      },
      "execution_count": null,
      "outputs": [
        {
          "output_type": "stream",
          "name": "stdout",
          "text": [
            "features:\n",
            "[[-0.90068117  1.03205722 -1.3412724  -1.31297673]\n",
            " [-1.14301691 -0.1249576  -1.3412724  -1.31297673]\n",
            " [-1.38535265  0.33784833 -1.39813811 -1.31297673]\n",
            " [-1.50652052  0.10644536 -1.2844067  -1.31297673]\n",
            " [-1.02184904  1.26346019 -1.3412724  -1.31297673]]\n",
            "target:\n",
            "[[1. 0. 0.]\n",
            " [1. 0. 0.]\n",
            " [1. 0. 0.]\n",
            " [1. 0. 0.]\n",
            " [1. 0. 0.]]\n"
          ]
        }
      ]
    },
    {
      "cell_type": "code",
      "source": [
        "X_train, X_test, y_train, y_test = train_test_split(X, y, test_size=0.1)\n",
        "print(X_train.shape, X_test.shape, y_train.shape, y_test.shape)"
      ],
      "metadata": {
        "colab": {
          "base_uri": "https://localhost:8080/"
        },
        "id": "IeFaSvGurBYy",
        "outputId": "22901a9b-376d-4504-a750-7da79efd85e5"
      },
      "execution_count": null,
      "outputs": [
        {
          "output_type": "stream",
          "name": "stdout",
          "text": [
            "(135, 4) (15, 4) (135, 3) (15, 3)\n"
          ]
        }
      ]
    },
    {
      "cell_type": "markdown",
      "source": [
        "# Training the model"
      ],
      "metadata": {
        "id": "3NChnN-ZsPmz"
      }
    },
    {
      "cell_type": "code",
      "source": [
        "from tensorflow import keras\n",
        "# number of classes in target variable\n",
        "NB_CLASSES = 3\n",
        "# create a sequential model in keras\n",
        "model = tf.keras.models.Sequential()\n",
        "# first hidden layer\n",
        "model.add(keras.layers.Dense(128, input_shape=(4,), name='Hidden_layer_1', activation='relu'))\n",
        "# second hidden layer\n",
        "model.add(keras.layers.Dense(128, name='Hidden_layer_2', activation='relu'))\n",
        "# output layer\n",
        "model.add(keras.layers.Dense(NB_CLASSES, name='Output_layer', activation='softmax'))\n",
        "# compile the model\n",
        "model.compile(loss='categorical_crossentropy', metrics=['accuracy'])\n",
        "model.summary()\n"
      ],
      "metadata": {
        "colab": {
          "base_uri": "https://localhost:8080/"
        },
        "id": "BpdAZHN-r8A2",
        "outputId": "6041c95a-aef1-4988-de28-951a241d490d"
      },
      "execution_count": null,
      "outputs": [
        {
          "output_type": "stream",
          "name": "stdout",
          "text": [
            "Model: \"sequential_5\"\n",
            "_________________________________________________________________\n",
            " Layer (type)                Output Shape              Param #   \n",
            "=================================================================\n",
            " Hidden_layer_1 (Dense)      (None, 128)               640       \n",
            "                                                                 \n",
            " Hidden_layer_2 (Dense)      (None, 128)               16512     \n",
            "                                                                 \n",
            " Output_layer (Dense)        (None, 3)                 387       \n",
            "                                                                 \n",
            "=================================================================\n",
            "Total params: 17,539\n",
            "Trainable params: 17,539\n",
            "Non-trainable params: 0\n",
            "_________________________________________________________________\n"
          ]
        }
      ]
    },
    {
      "cell_type": "markdown",
      "source": [
        "# Evaluating"
      ],
      "metadata": {
        "id": "8xLumdcIu7Nd"
      }
    },
    {
      "cell_type": "code",
      "source": [
        "VERBOSE = 1\n",
        "BATCH_SIZE = 16\n",
        "EPOCHS = 10\n",
        "VALIDATION_SPLIT = 0.2\n",
        "history = model.fit(X_train, y_train, batch_size=BATCH_SIZE, epochs=EPOCHS, verbose=VERBOSE, validation_split=VALIDATION_SPLIT)"
      ],
      "metadata": {
        "colab": {
          "base_uri": "https://localhost:8080/"
        },
        "id": "h8jUf6yAvATI",
        "outputId": "f88d41ae-3e55-4ad5-f2d4-74450fdb9368"
      },
      "execution_count": null,
      "outputs": [
        {
          "output_type": "stream",
          "name": "stdout",
          "text": [
            "Epoch 1/10\n",
            "7/7 [==============================] - 0s 24ms/step - loss: 0.9448 - accuracy: 0.5926 - val_loss: 0.7414 - val_accuracy: 0.7037\n",
            "Epoch 2/10\n",
            "7/7 [==============================] - 0s 5ms/step - loss: 0.5898 - accuracy: 0.7778 - val_loss: 0.5691 - val_accuracy: 0.8148\n",
            "Epoch 3/10\n",
            "7/7 [==============================] - 0s 4ms/step - loss: 0.4628 - accuracy: 0.8148 - val_loss: 0.4794 - val_accuracy: 0.8148\n",
            "Epoch 4/10\n",
            "7/7 [==============================] - 0s 4ms/step - loss: 0.3919 - accuracy: 0.8333 - val_loss: 0.4176 - val_accuracy: 0.8148\n",
            "Epoch 5/10\n",
            "7/7 [==============================] - 0s 6ms/step - loss: 0.3458 - accuracy: 0.8333 - val_loss: 0.3662 - val_accuracy: 0.8889\n",
            "Epoch 6/10\n",
            "7/7 [==============================] - 0s 5ms/step - loss: 0.3154 - accuracy: 0.8704 - val_loss: 0.3284 - val_accuracy: 0.8889\n",
            "Epoch 7/10\n",
            "7/7 [==============================] - 0s 4ms/step - loss: 0.2874 - accuracy: 0.8704 - val_loss: 0.3020 - val_accuracy: 0.8889\n",
            "Epoch 8/10\n",
            "7/7 [==============================] - 0s 5ms/step - loss: 0.2623 - accuracy: 0.8704 - val_loss: 0.2746 - val_accuracy: 0.8889\n",
            "Epoch 9/10\n",
            "7/7 [==============================] - 0s 5ms/step - loss: 0.2498 - accuracy: 0.9074 - val_loss: 0.2613 - val_accuracy: 0.8889\n",
            "Epoch 10/10\n",
            "7/7 [==============================] - 0s 5ms/step - loss: 0.2343 - accuracy: 0.8889 - val_loss: 0.2524 - val_accuracy: 0.8889\n"
          ]
        }
      ]
    },
    {
      "cell_type": "code",
      "source": [
        "pd.DataFrame(history.history)['accuracy'].plot(figsize=(8,5))\n",
        "plt.title('Accuracy with each epoch')\n",
        "plt.show()\n",
        "# evaluate against test set\n",
        "model.evaluate(X_test, y_test)\n"
      ],
      "metadata": {
        "colab": {
          "base_uri": "https://localhost:8080/",
          "height": 503
        },
        "id": "nzfnfME8wTzv",
        "outputId": "7a1f8c35-a7d4-4250-f5dd-7e9d3296baa2"
      },
      "execution_count": null,
      "outputs": [
        {
          "output_type": "display_data",
          "data": {
            "text/plain": [
              "<Figure size 800x500 with 1 Axes>"
            ],
            "image/png": "[encoded data removed]"
          },
          "metadata": {}
        },
        {
          "output_type": "stream",
          "name": "stdout",
          "text": [
            "1/1 [==============================] - 0s 20ms/step - loss: 0.1348 - accuracy: 1.0000\n"
          ]
        },
        {
          "output_type": "execute_result",
          "data": {
            "text/plain": [
              "[0.13483868539333344, 1.0]"
            ]
          },
          "metadata": {},
          "execution_count": 70
        }
      ]
    },
    {
      "cell_type": "code",
      "source": [
        "model.save('iris_save')\n",
        "loaded_model = keras.models.load_model('iris_save')\n",
        "loaded_model.summary()"
      ],
      "metadata": {
        "colab": {
          "base_uri": "https://localhost:8080/"
        },
        "id": "rgx2cUARxaN9",
        "outputId": "961a0843-c865-46c6-bc6d-dd412bd902ce"
      },
      "execution_count": null,
      "outputs": [
        {
          "output_type": "stream",
          "name": "stderr",
          "text": [
            "WARNING:absl:Function `_wrapped_model` contains input name(s) Hidden_layer_1_input with unsupported characters which will be renamed to hidden_layer_1_input in the SavedModel.\n",
            "WARNING:absl:Found untraced functions such as _update_step_xla while saving (showing 1 of 1). These functions will not be directly callable after loading.\n"
          ]
        },
        {
          "output_type": "stream",
          "name": "stdout",
          "text": [
            "Model: \"sequential_5\"\n",
            "_________________________________________________________________\n",
            " Layer (type)                Output Shape              Param #   \n",
            "=================================================================\n",
            " Hidden_layer_1 (Dense)      (None, 128)               640       \n",
            "                                                                 \n",
            " Hidden_layer_2 (Dense)      (None, 128)               16512     \n",
            "                                                                 \n",
            " Output_layer (Dense)        (None, 3)                 387       \n",
            "                                                                 \n",
            "=================================================================\n",
            "Total params: 17,539\n",
            "Trainable params: 17,539\n",
            "Non-trainable params: 0\n",
            "_________________________________________________________________\n"
          ]
        }
      ]
    },
    {
      "cell_type": "markdown",
      "source": [
        "# Predictions"
      ],
      "metadata": {
        "id": "LtkNYJCFyL_V"
      }
    },
    {
      "cell_type": "code",
      "source": [
        "prediction_input = [[6.6, 3.0, 4.4, 1.4]]\n",
        "scaled_input = scaler.transform(prediction_input)\n",
        "raw_prediction = model.predict(scaled_input)\n",
        "print('raw prediction (probabilities for each class):', raw_prediction)\n",
        "prediction = np.argmax(raw_prediction)\n",
        "print('prediction is:', label_encoder.inverse_transform([prediction]))"
      ],
      "metadata": {
        "colab": {
          "base_uri": "https://localhost:8080/"
        },
        "id": "V07CD9giyI7v",
        "outputId": "bd30ef39-0eb6-4949-f60f-f87230dc6e6d"
      },
      "execution_count": null,
      "outputs": [
        {
          "output_type": "stream",
          "name": "stdout",
          "text": [
            "1/1 [==============================] - 0s 14ms/step\n",
            "raw prediction (probabilities for each class): [[0.021647   0.6243073  0.35404578]]\n",
            "prediction is: ['Iris-versicolor']\n"
          ]
        }
      ]
    }
  ]
}